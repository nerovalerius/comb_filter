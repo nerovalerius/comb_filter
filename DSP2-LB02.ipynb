{
 "cells": [
  {
   "cell_type": "markdown",
   "metadata": {
    "deletable": false,
    "editable": false,
    "nbgrader": {
     "cell_type": "markdown",
     "checksum": "496b276ec54f89ae29626172365eef62",
     "grade": false,
     "grade_id": "cell-0904867372a0e6ac",
     "locked": true,
     "schema_version": 3,
     "solution": false,
     "task": false
    }
   },
   "source": [
    "# DSP2 - Lab 02\n",
    "\n",
    "\n",
    "## Abstract\n",
    "The tasks of this upcoming lab concern the generation and application of a Notch Filter. Additionally, a moving average/median filter is implemented."
   ]
  },
  {
   "cell_type": "code",
   "execution_count": 1,
   "metadata": {
    "deletable": false,
    "editable": false,
    "nbgrader": {
     "cell_type": "code",
     "checksum": "ce9d1ffcd84c142fbd519521e6ec8e33",
     "grade": false,
     "grade_id": "cell-b6ab5a6bcce65980",
     "locked": true,
     "schema_version": 3,
     "solution": false,
     "task": false
    }
   },
   "outputs": [],
   "source": [
    "import matplotlib.pyplot as plt\n",
    "import numpy as np\n",
    "from scipy import signal\n",
    "from scipy.io import wavfile"
   ]
  },
  {
   "cell_type": "markdown",
   "metadata": {
    "deletable": false,
    "editable": false,
    "nbgrader": {
     "cell_type": "markdown",
     "checksum": "31d5153d8c8ee844fd86492c84cade30",
     "grade": false,
     "grade_id": "cell-f41cbbe00539b340",
     "locked": true,
     "schema_version": 3,
     "solution": false,
     "task": false
    }
   },
   "source": [
    "## Lab Experiment 1: Notch Filter\n",
    "\n",
    "Describe the meaning of the Quality factor (Q factor) towards filters. Name the definition of the Q factor."
   ]
  },
  {
   "cell_type": "markdown",
   "metadata": {
    "deletable": false,
    "nbgrader": {
     "cell_type": "markdown",
     "checksum": "834c14234f9d0eed14ceb7d52f101c0c",
     "grade": true,
     "grade_id": "cell-52ee23b5b7dd2b05",
     "locked": false,
     "points": 0,
     "schema_version": 3,
     "solution": true,
     "task": false
    }
   },
   "source": [
    "Q: Quality factor\n",
    "Q = w_0/dw\n",
    "Quality Factor = wished filter frequency / filter bandwidth\n",
    "\n",
    "A higher bandwidth means that more frequencies are filtered out and that the Quality Factor is lower.\n",
    "\n",
    "dw: bandwidth\n",
    "dw = w_0/Q"
   ]
  },
  {
   "cell_type": "markdown",
   "metadata": {
    "deletable": false,
    "editable": false,
    "nbgrader": {
     "cell_type": "markdown",
     "checksum": "0255a60b4b649b68990a3f95c5008ff6",
     "grade": false,
     "grade_id": "cell-3b20adf43f12a827",
     "locked": true,
     "schema_version": 3,
     "solution": false,
     "task": false
    }
   },
   "source": [
    "Illustrate the discrete transfer function of a notch filter."
   ]
  },
  {
   "attachments": {
    "image-3.png": {
     "image/png": "[encoded data removed]"
    }
   },
   "cell_type": "markdown",
   "metadata": {
    "deletable": false,
    "nbgrader": {
     "cell_type": "markdown",
     "checksum": "d8ae883bb2f963ba20d5ad1d60a8f956",
     "grade": true,
     "grade_id": "cell-95c77dd102d804a5",
     "locked": false,
     "points": 0,
     "schema_version": 3,
     "solution": true,
     "task": false
    }
   },
   "source": [
    "![image-3.png](attachment:image-3.png)"
   ]
  },
  {
   "cell_type": "markdown",
   "metadata": {
    "deletable": false,
    "editable": false,
    "nbgrader": {
     "cell_type": "markdown",
     "checksum": "6bb3a68c651a993e01dcee4a1385e5bd",
     "grade": false,
     "grade_id": "cell-500cb14dd8d6c3cf",
     "locked": true,
     "schema_version": 3,
     "solution": false,
     "task": false
    }
   },
   "source": [
    "Create a discrete notch filter based on the following parameters:\n",
    "- Notch frequency f0 = 1kHz\n",
    "- Sampling frequency fs = 10kHz\n",
    "- Quality factor Q = 20"
   ]
  },
  {
   "cell_type": "code",
   "execution_count": 2,
   "metadata": {},
   "outputs": [],
   "source": [
    "def pzmap(G, ax=None, marker_color = None):\n",
    "    \n",
    "    if marker_color:\n",
    "        marker_color = [marker_color, marker_color]\n",
    "    else:\n",
    "        marker_color = [\"r\", \"b\"]\n",
    "            \n",
    "    \n",
    "    if ax:\n",
    "        actual_imag_min, actual_imag_max = ax.get_ylim()\n",
    "        actual_real_min, actual_real_max = ax.get_xlim()\n",
    "    else:\n",
    "        _, ax = plt.subplots(figsize=(5, 5))\n",
    "    \n",
    "    if ax.lines == []:\n",
    "        # circle\n",
    "        theta = np.linspace(-np.pi, np.pi, 201)\n",
    "        ax.plot(np.sin(theta), np.cos(theta), color = 'k', linewidth=0.5)\n",
    "        ax.axhline(y=0, color='k', alpha=0.3)\n",
    "        ax.axvline(x=0, color='k', alpha=0.3) \n",
    "        actual_imag_min, actual_imag_max = -1.0, 1.0\n",
    "        actual_real_min, actual_real_max = -1.0, 1.0\n",
    "       \n",
    "    # poles\n",
    "    ax.plot(np.real(G.poles), np.imag(G.poles), 'X%s' % marker_color[0], label = 'Poles')\n",
    "\n",
    "    # zeros\n",
    "    ax.plot(np.real(G.zeros), np.imag(G.zeros), '.%s' % marker_color[1], label = 'Zeros')\n",
    "    \n",
    "    def make_one_long(a, b, c):\n",
    "        a = np.array(a)\n",
    "        gesamt = np.append(a, b)\n",
    "        return np.append(gesamt, c)\n",
    "\n",
    "    imag_min = np.min(make_one_long([actual_imag_min], np.imag(G.poles), np.imag(G.zeros))) * 1.05\n",
    "    imag_max = np.max(make_one_long([actual_imag_max], np.imag(G.poles), np.imag(G.zeros))) * 1.05\n",
    "    real_min = np.min(make_one_long([actual_real_min], np.real(G.poles), np.real(G.zeros))) * 1.05\n",
    "    real_max = np.max(make_one_long([actual_real_max], np.real(G.poles), np.real(G.zeros))) * 1.05\n",
    "    all_lim = np.max([np.abs(real_min), real_max, np.abs(imag_min), imag_max])\n",
    "    ax.set_xlim(-all_lim, all_lim)\n",
    "    ax.set_ylim(-all_lim, all_lim) \n",
    "        \n",
    "    ax.legend(loc=1)\n",
    "    ax.grid()\n",
    "    return ax"
   ]
  },
  {
   "cell_type": "code",
   "execution_count": 16,
   "metadata": {
    "deletable": false,
    "nbgrader": {
     "cell_type": "code",
     "checksum": "cd4696994b8ad52c7a626fdc8728454d",
     "grade": true,
     "grade_id": "cell-d567b3519e25c2d7",
     "locked": false,
     "points": 0,
     "schema_version": 3,
     "solution": true,
     "task": false
    }
   },
   "outputs": [],
   "source": [
    "# YOUR CODE HERE\n",
    "f0 = 1000\n",
    "\n",
    "# sampling frequency\n",
    "fs = 10000\n",
    "dt = 1 / fs\n",
    "\n",
    "# normalized cutoff frequency\n",
    "w0 = 2 * np.pi * f0 / fs\n",
    "\n",
    "# Quality factor\n",
    "Q = 20\n",
    "\n",
    "# bandwidth of poles \n",
    "dw = (w0 / Q)\n",
    "\n",
    "# pointer length from source to pole \n",
    "r = 1 - (dw/2)\n",
    "\n",
    "# filter coeffs\n",
    "b,a = signal.iirnotch(f0, Q, fs)\n",
    "\n",
    "# Transfer function of a notch filter\n",
    "notch_filter = signal.TransferFunction(b, a, dt=dt)"
   ]
  },
  {
   "cell_type": "markdown",
   "metadata": {
    "deletable": false,
    "editable": false,
    "nbgrader": {
     "cell_type": "markdown",
     "checksum": "98b3472714e6f8fe75a8bf2744d51189",
     "grade": false,
     "grade_id": "cell-8b1a7adb084dabb8",
     "locked": true,
     "schema_version": 3,
     "solution": false,
     "task": false
    }
   },
   "source": [
    "Plot the resulting notch filter using magnitude, phase response, impulse response, step response and pole-zero plot."
   ]
  },
  {
   "cell_type": "code",
   "execution_count": 17,
   "metadata": {
    "deletable": false,
    "nbgrader": {
     "cell_type": "code",
     "checksum": "49689880adc4c16a6ddc109b5e6069fb",
     "grade": true,
     "grade_id": "cell-0c003ffcd32fd7e1",
     "locked": false,
     "points": 0,
     "schema_version": 3,
     "solution": true,
     "task": false
    }
   },
   "outputs": [
    {
     "data": {
      "image/png": "[encoded data removed]",
      "text/plain": [
       "<Figure size 576x432 with 4 Axes>"
      ]
     },
     "metadata": {
      "needs_background": "light"
     },
     "output_type": "display_data"
    },
    {
     "data": {
      "image/png": "[encoded data removed]",
      "text/plain": [
       "<Figure size 432x288 with 1 Axes>"
      ]
     },
     "metadata": {
      "needs_background": "light"
     },
     "output_type": "display_data"
    }
   ],
   "source": [
    "# YOUR CODE HERE\n",
    "\n",
    "############ PLOTS ############\n",
    "freq, h = signal.freqz(b, a, fs=fs)\n",
    "\n",
    "# Plot\n",
    "fig, ax = plt.subplots(4, 1, figsize=(8, 6))\n",
    "\n",
    "# Frequency response\n",
    "freq, h = signal.freqz(b, a, fs=fs)\n",
    "\n",
    "# magnitude plot\n",
    "ax[0].plot(freq, 20*np.log10(abs(h)), color='blue')\n",
    "ax[0].set_title(\"Magitude\")\n",
    "ax[0].set_ylabel(\"Amplitude (dB)\", color='blue')\n",
    "#ax[0].set_xlim([0, 100])\n",
    "ax[0].set_ylim([-25, 10])\n",
    "ax[0].grid()\n",
    "\n",
    "# phase response\n",
    "ax[1].plot(freq, np.unwrap(np.angle(h))*180/np.pi, color='green')\n",
    "ax[1].set_ylabel(\"Angle (degrees)\", color='green')\n",
    "ax[1].set_xlabel(\"Frequency (Hz)\")\n",
    "#ax[1].set_xlim([0, 100])\n",
    "ax[1].set_yticks([-90, -60, -30, 0, 30, 60, 90])\n",
    "ax[1].set_ylim([-90, 90])\n",
    "ax[1].grid()\n",
    "\n",
    "# impulse response\n",
    "#butter = signal.dlti(*signal.butter(3, 0.5))\n",
    "t, y = signal.dimpulse(notch_filter)\n",
    "ax[2].step(t, np.squeeze(y), color='red')\n",
    "ax[2].grid()\n",
    "ax[2].set_xlabel('n [samples]')\n",
    "ax[2].set_ylabel('Amplitude')\n",
    "\n",
    "# step response\n",
    "#butter = signal.dlti(*signal.butter(3, 0.5))\n",
    "t, y = signal.dstep(notch_filter)\n",
    "ax[3].step(t, np.squeeze(y), color='orange')\n",
    "ax[3].grid()\n",
    "ax[3].set_xlabel('n [samples]')\n",
    "ax[3].set_ylabel('Amplitude')\n",
    "\n",
    "# p/z plot\n",
    "fig = plt.figure()\n",
    "ax2 = fig.add_subplot(111)\n",
    "pzmap(notch_filter, ax2, 'r')\n",
    "\n",
    "# Plot\n",
    "plt.show()\n"
   ]
  },
  {
   "cell_type": "markdown",
   "metadata": {
    "deletable": false,
    "editable": false,
    "nbgrader": {
     "cell_type": "markdown",
     "checksum": "350307ce7b9416d69725025046a6aa1a",
     "grade": false,
     "grade_id": "cell-59683a2d1935713a",
     "locked": true,
     "schema_version": 3,
     "solution": false,
     "task": false
    }
   },
   "source": [
    "Evaluate the notch filter using both bode plot and pole zero map.\n",
    "\n",
    "- Name the characteristics of the notch filter in both plot styles.\n",
    "- Name the differences between a notch filter and a band-stop filter.\n",
    "- How does the quality factor influence the notch filter in both bode plot and pole zero map?\n",
    "- Name the effects of the poles converging towards the zeros of the transfer function. What happens if the poles are equal to the zeros?"
   ]
  },
  {
   "cell_type": "markdown",
   "metadata": {
    "deletable": false,
    "nbgrader": {
     "cell_type": "markdown",
     "checksum": "6d56f1ff5d3178b654b07db8abade004",
     "grade": true,
     "grade_id": "cell-61706f02431cea28",
     "locked": false,
     "points": 0,
     "schema_version": 3,
     "solution": true,
     "task": false
    }
   },
   "source": [
    "YOUR ANSWER HERE"
   ]
  },
  {
   "cell_type": "markdown",
   "metadata": {
    "deletable": false,
    "editable": false,
    "nbgrader": {
     "cell_type": "markdown",
     "checksum": "9a85b7bc225034ff082bc4b9f71e22fd",
     "grade": false,
     "grade_id": "cell-3a817e72aea620ae",
     "locked": true,
     "schema_version": 3,
     "solution": false,
     "task": false
    }
   },
   "source": [
    "## Lab Experiment 2: Random glitches\n",
    "\n",
    "Generate random glitches within an arbitrary audio file."
   ]
  },
  {
   "cell_type": "code",
   "execution_count": null,
   "metadata": {
    "deletable": false,
    "nbgrader": {
     "cell_type": "code",
     "checksum": "fcfae10ce2a163b1fca161892f482933",
     "grade": true,
     "grade_id": "cell-934574ec653f956e",
     "locked": false,
     "points": 0,
     "schema_version": 3,
     "solution": true,
     "task": false
    }
   },
   "outputs": [],
   "source": [
    "# YOUR CODE HERE\n",
    "raise NotImplementedError()"
   ]
  },
  {
   "cell_type": "markdown",
   "metadata": {
    "deletable": false,
    "editable": false,
    "nbgrader": {
     "cell_type": "markdown",
     "checksum": "6b6161e2aa1ef00e52a18e64b0edae65",
     "grade": false,
     "grade_id": "cell-760f3a2ced75eea3",
     "locked": true,
     "schema_version": 3,
     "solution": false,
     "task": false
    }
   },
   "source": [
    "Analyze the noise characteristic of the modified audio file in time and frequency domain"
   ]
  },
  {
   "cell_type": "code",
   "execution_count": null,
   "metadata": {
    "deletable": false,
    "nbgrader": {
     "cell_type": "code",
     "checksum": "4048ac63d600c9404869cdd6f427c3ec",
     "grade": true,
     "grade_id": "cell-77b4019007a378f1",
     "locked": false,
     "points": 0,
     "schema_version": 3,
     "solution": true,
     "task": false
    }
   },
   "outputs": [],
   "source": [
    "# YOUR CODE HERE\n",
    "raise NotImplementedError()"
   ]
  },
  {
   "cell_type": "markdown",
   "metadata": {
    "deletable": false,
    "editable": false,
    "nbgrader": {
     "cell_type": "markdown",
     "checksum": "5ce708d8d81e50b7dfeb165c7df5aa8c",
     "grade": false,
     "grade_id": "cell-1adc759249f19776",
     "locked": true,
     "schema_version": 3,
     "solution": false,
     "task": false
    }
   },
   "source": [
    "Why are FIR and IIR filters not suitable for this kind of noise?"
   ]
  },
  {
   "cell_type": "markdown",
   "metadata": {
    "deletable": false,
    "nbgrader": {
     "cell_type": "markdown",
     "checksum": "936e28bf25db411704b96e06ceb825ec",
     "grade": true,
     "grade_id": "cell-d3e29fc1637b782b",
     "locked": false,
     "points": 0,
     "schema_version": 3,
     "solution": true,
     "task": false
    }
   },
   "source": [
    "YOUR ANSWER HERE"
   ]
  },
  {
   "cell_type": "markdown",
   "metadata": {
    "deletable": false,
    "editable": false,
    "nbgrader": {
     "cell_type": "markdown",
     "checksum": "93c8cfbcb80343a65743d5cc719c8017",
     "grade": false,
     "grade_id": "cell-b3ab4b8771791cd7",
     "locked": true,
     "schema_version": 3,
     "solution": false,
     "task": false
    }
   },
   "source": [
    "Use a moving average/median filter on the file and display the result in time and frequency domain."
   ]
  },
  {
   "cell_type": "code",
   "execution_count": null,
   "metadata": {
    "deletable": false,
    "nbgrader": {
     "cell_type": "code",
     "checksum": "b5bee3811a92cf6a28d0eaba2b78b181",
     "grade": true,
     "grade_id": "cell-44bd2206119e42d2",
     "locked": false,
     "points": 0,
     "schema_version": 3,
     "solution": true,
     "task": false
    }
   },
   "outputs": [],
   "source": [
    "# YOUR CODE HERE\n",
    "raise NotImplementedError()"
   ]
  }
 ],
 "metadata": {
  "colab": {
   "authorship_tag": "ABX9TyN9v4xI9utD1FeiCUrOicF8",
   "collapsed_sections": [],
   "mount_file_id": "1DAEb0nceAd_D713tko1G39pw-iaRqQFp",
   "name": "DSP1-LB04",
   "provenance": []
  },
  "kernelspec": {
   "display_name": "Python 3",
   "language": "python",
   "name": "python3"
  },
  "language_info": {
   "codemirror_mode": {
    "name": "ipython",
    "version": 3
   },
   "file_extension": ".py",
   "mimetype": "text/x-python",
   "name": "python",
   "nbconvert_exporter": "python",
   "pygments_lexer": "ipython3",
   "version": "3.8.5"
  }
 },
 "nbformat": 4,
 "nbformat_minor": 4
}
